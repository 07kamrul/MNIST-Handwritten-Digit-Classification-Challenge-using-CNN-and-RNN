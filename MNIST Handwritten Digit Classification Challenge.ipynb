{
 "cells": [
  {
   "cell_type": "code",
   "execution_count": 1,
   "metadata": {},
   "outputs": [
    {
     "name": "stderr",
     "output_type": "stream",
     "text": [
      "Using TensorFlow backend.\n"
     ]
    }
   ],
   "source": [
    "import numpy\n",
    "from keras.datasets import mnist\n",
    "from keras.models import Sequential\n",
    "from keras.layers import Dense\n",
    "from keras.layers import Dropout\n",
    "from keras.layers import Flatten\n",
    "from keras.layers import Activation\n",
    "from keras.layers.convolutional import Conv2D\n",
    "from keras.layers.convolutional import MaxPooling2D\n",
    "from keras.layers.recurrent import SimpleRNN\n",
    "from keras.layers.recurrent import LSTM \n",
    "from keras.layers.recurrent import GRU\n",
    "from keras.optimizers import Adam\n",
    "from keras.utils import np_utils\n",
    "from IPython.display import SVG\n",
    "from keras.utils.vis_utils import model_to_dot\n",
    "import matplotlib.pyplot as plt\n",
    "import seaborn as sns"
   ]
  },
  {
   "cell_type": "code",
   "execution_count": 2,
   "metadata": {},
   "outputs": [],
   "source": [
    "(X_train, y_train), (X_test, y_test) = mnist.load_data()"
   ]
  },
  {
   "cell_type": "code",
   "execution_count": 3,
   "metadata": {},
   "outputs": [
    {
     "name": "stdout",
     "output_type": "stream",
     "text": [
      "train: 60000 test: 10000\n"
     ]
    }
   ],
   "source": [
    "print('train:',len(X_train),'test:',len(X_test))"
   ]
  },
  {
   "cell_type": "code",
   "execution_count": 4,
   "metadata": {},
   "outputs": [],
   "source": [
    "classes = 10\n",
    "cnn_epochs = 10\n",
    "rnn_epochs = 20\n",
    "batch_size = 200\n",
    "cnn_input_shape = (28, 28, 1)\n",
    "rnn_input_shape = (28, 28)\n",
    "pool_size = (2, 2)\n",
    "#Convolution Layer 1\n",
    "filters_1 = 64\n",
    "kernel_size_1 = (5, 5)\n",
    "#Convolution Layer 2\n",
    "filters_2 = 64\n",
    "kernel_size_2 = (3, 3)\n",
    "dropout = 0.4\n",
    "dense_units = 256\n",
    "#Number of hidden units\n",
    "hidden_units_1 = 64\n",
    "hidden_units_2 = 64"
   ]
  },
  {
   "cell_type": "code",
   "execution_count": 5,
   "metadata": {},
   "outputs": [],
   "source": [
    "cnn_X_train = X_train.reshape(X_train.shape[0], X_train.shape[1], X_train.shape[2], 1).astype('float32')\n",
    "cnn_X_test = X_test.reshape(X_test.shape[0], X_test.shape[1], X_test.shape[2], 1).astype('float32')\n",
    "cnn_X_train/=255\n",
    "cnn_X_test/=255"
   ]
  },
  {
   "cell_type": "code",
   "execution_count": 6,
   "metadata": {},
   "outputs": [],
   "source": [
    "rnn_X_train = X_train.astype('float32')\n",
    "rnn_X_test = X_test.astype('float32')\n",
    "rnn_X_train/=255\n",
    "rnn_X_test/=255"
   ]
  },
  {
   "cell_type": "code",
   "execution_count": 7,
   "metadata": {},
   "outputs": [],
   "source": [
    "# one-hot encoding:\n",
    "Y_train = np_utils.to_categorical(y_train, classes)\n",
    "Y_test = np_utils.to_categorical(y_test, classes)"
   ]
  },
  {
   "cell_type": "code",
   "execution_count": 8,
   "metadata": {},
   "outputs": [
    {
     "name": "stdout",
     "output_type": "stream",
     "text": [
      "cnn_X_train: (60000, 28, 28, 1)\n",
      "cnn_X_test: (10000, 28, 28, 1)\n",
      "rnn_X_train: (60000, 28, 28)\n",
      "rnn_X_test: (10000, 28, 28)\n",
      "Y_train: (60000, 10)\n",
      "Y_test: (10000, 10)\n"
     ]
    }
   ],
   "source": [
    "print('cnn_X_train:', cnn_X_train.shape)\n",
    "print('cnn_X_test:', cnn_X_test.shape)\n",
    "print('rnn_X_train:', rnn_X_train.shape)\n",
    "print('rnn_X_test:', rnn_X_test.shape)\n",
    "print('Y_train:', Y_train.shape)\n",
    "print('Y_test:', Y_test.shape)"
   ]
  },
  {
   "cell_type": "code",
   "execution_count": 9,
   "metadata": {},
   "outputs": [
    {
     "name": "stdout",
     "output_type": "stream",
     "text": [
      "_________________________________________________________________\n",
      "Layer (type)                 Output Shape              Param #   \n",
      "=================================================================\n",
      "conv2d_1 (Conv2D)            (None, 24, 24, 64)        1664      \n",
      "_________________________________________________________________\n",
      "max_pooling2d_1 (MaxPooling2 (None, 12, 12, 64)        0         \n",
      "_________________________________________________________________\n",
      "conv2d_2 (Conv2D)            (None, 10, 10, 64)        36928     \n",
      "_________________________________________________________________\n",
      "max_pooling2d_2 (MaxPooling2 (None, 5, 5, 64)          0         \n",
      "_________________________________________________________________\n",
      "dropout_1 (Dropout)          (None, 5, 5, 64)          0         \n",
      "_________________________________________________________________\n",
      "flatten_1 (Flatten)          (None, 1600)              0         \n",
      "_________________________________________________________________\n",
      "dense_1 (Dense)              (None, 256)               409856    \n",
      "_________________________________________________________________\n",
      "dense_2 (Dense)              (None, 10)                2570      \n",
      "=================================================================\n",
      "Total params: 451,018\n",
      "Trainable params: 451,018\n",
      "Non-trainable params: 0\n",
      "_________________________________________________________________\n",
      "None\n"
     ]
    }
   ],
   "source": [
    "cnn_model = Sequential()\n",
    "cnn_model.add(Conv2D(filters = filters_1, kernel_size = kernel_size_1, input_shape = cnn_input_shape, activation='relu'))\n",
    "cnn_model.add(MaxPooling2D(pool_size = pool_size))\n",
    "cnn_model.add(Conv2D(filters = filters_2, kernel_size = kernel_size_2, activation='relu'))\n",
    "cnn_model.add(MaxPooling2D(pool_size = pool_size))\n",
    "cnn_model.add(Dropout(dropout))\n",
    "cnn_model.add(Flatten())\n",
    "cnn_model.add(Dense(dense_units, activation='relu'))\n",
    "cnn_model.add(Dense(classes, activation='softmax'))\n",
    "cnn_model.compile(loss='categorical_crossentropy', optimizer=Adam(), metrics=['accuracy'])\n",
    "print(cnn_model.summary())"
   ]
  },
  {
   "cell_type": "code",
   "execution_count": 10,
   "metadata": {},
   "outputs": [
    {
     "name": "stdout",
     "output_type": "stream",
     "text": [
      "_________________________________________________________________\n",
      "Layer (type)                 Output Shape              Param #   \n",
      "=================================================================\n",
      "simple_rnn_1 (SimpleRNN)     (None, 28, 64)            5952      \n",
      "_________________________________________________________________\n",
      "simple_rnn_2 (SimpleRNN)     (None, 64)                8256      \n",
      "_________________________________________________________________\n",
      "dense_3 (Dense)              (None, 10)                650       \n",
      "_________________________________________________________________\n",
      "activation_1 (Activation)    (None, 10)                0         \n",
      "=================================================================\n",
      "Total params: 14,858\n",
      "Trainable params: 14,858\n",
      "Non-trainable params: 0\n",
      "_________________________________________________________________\n",
      "None\n"
     ]
    }
   ],
   "source": [
    "rnn_model = Sequential()\n",
    "rnn_model.add(SimpleRNN(hidden_units_1, input_shape = rnn_input_shape, return_sequences=True))\n",
    "rnn_model.add(SimpleRNN(hidden_units_2))\n",
    "rnn_model.add(Dense(units = classes))\n",
    "rnn_model.add(Activation('softmax'))\n",
    "rnn_model.compile(loss='categorical_crossentropy', optimizer=Adam(), metrics=['accuracy'])\n",
    "print(rnn_model.summary())"
   ]
  },
  {
   "cell_type": "code",
   "execution_count": 11,
   "metadata": {},
   "outputs": [
    {
     "name": "stdout",
     "output_type": "stream",
     "text": [
      "CNN Model\n"
     ]
    },
    {
     "data": {
      "image/svg+xml": [
       "<svg height=\"709pt\" viewBox=\"0.00 0.00 392.00 709.00\" width=\"392pt\" xmlns=\"http://www.w3.org/2000/svg\" xmlns:xlink=\"http://www.w3.org/1999/xlink\">\n",
       "<g class=\"graph\" id=\"graph0\" transform=\"scale(1 1) rotate(0) translate(4 705)\">\n",
       "<title>G</title>\n",
       "<polygon fill=\"white\" points=\"-4,4 -4,-705 388,-705 388,4 -4,4\" stroke=\"none\"/>\n",
       "<!-- 2335295098440 -->\n",
       "<g class=\"node\" id=\"node1\"><title>2335295098440</title>\n",
       "<polygon fill=\"none\" points=\"41,-581.5 41,-627.5 343,-627.5 343,-581.5 41,-581.5\" stroke=\"black\"/>\n",
       "<text font-family=\"Times New Roman,serif\" font-size=\"14.00\" text-anchor=\"middle\" x=\"104.5\" y=\"-600.8\">conv2d_1: Conv2D</text>\n",
       "<polyline fill=\"none\" points=\"168,-581.5 168,-627.5 \" stroke=\"black\"/>\n",
       "<text font-family=\"Times New Roman,serif\" font-size=\"14.00\" text-anchor=\"middle\" x=\"196\" y=\"-612.3\">input:</text>\n",
       "<polyline fill=\"none\" points=\"168,-604.5 224,-604.5 \" stroke=\"black\"/>\n",
       "<text font-family=\"Times New Roman,serif\" font-size=\"14.00\" text-anchor=\"middle\" x=\"196\" y=\"-589.3\">output:</text>\n",
       "<polyline fill=\"none\" points=\"224,-581.5 224,-627.5 \" stroke=\"black\"/>\n",
       "<text font-family=\"Times New Roman,serif\" font-size=\"14.00\" text-anchor=\"middle\" x=\"283.5\" y=\"-612.3\">(None, 28, 28, 1)</text>\n",
       "<polyline fill=\"none\" points=\"224,-604.5 343,-604.5 \" stroke=\"black\"/>\n",
       "<text font-family=\"Times New Roman,serif\" font-size=\"14.00\" text-anchor=\"middle\" x=\"283.5\" y=\"-589.3\">(None, 24, 24, 64)</text>\n",
       "</g>\n",
       "<!-- 2335295098832 -->\n",
       "<g class=\"node\" id=\"node2\"><title>2335295098832</title>\n",
       "<polygon fill=\"none\" points=\"0,-498.5 0,-544.5 384,-544.5 384,-498.5 0,-498.5\" stroke=\"black\"/>\n",
       "<text font-family=\"Times New Roman,serif\" font-size=\"14.00\" text-anchor=\"middle\" x=\"104.5\" y=\"-517.8\">max_pooling2d_1: MaxPooling2D</text>\n",
       "<polyline fill=\"none\" points=\"209,-498.5 209,-544.5 \" stroke=\"black\"/>\n",
       "<text font-family=\"Times New Roman,serif\" font-size=\"14.00\" text-anchor=\"middle\" x=\"237\" y=\"-529.3\">input:</text>\n",
       "<polyline fill=\"none\" points=\"209,-521.5 265,-521.5 \" stroke=\"black\"/>\n",
       "<text font-family=\"Times New Roman,serif\" font-size=\"14.00\" text-anchor=\"middle\" x=\"237\" y=\"-506.3\">output:</text>\n",
       "<polyline fill=\"none\" points=\"265,-498.5 265,-544.5 \" stroke=\"black\"/>\n",
       "<text font-family=\"Times New Roman,serif\" font-size=\"14.00\" text-anchor=\"middle\" x=\"324.5\" y=\"-529.3\">(None, 24, 24, 64)</text>\n",
       "<polyline fill=\"none\" points=\"265,-521.5 384,-521.5 \" stroke=\"black\"/>\n",
       "<text font-family=\"Times New Roman,serif\" font-size=\"14.00\" text-anchor=\"middle\" x=\"324.5\" y=\"-506.3\">(None, 12, 12, 64)</text>\n",
       "</g>\n",
       "<!-- 2335295098440&#45;&gt;2335295098832 -->\n",
       "<g class=\"edge\" id=\"edge2\"><title>2335295098440-&gt;2335295098832</title>\n",
       "<path d=\"M192,-581.366C192,-573.152 192,-563.658 192,-554.725\" fill=\"none\" stroke=\"black\"/>\n",
       "<polygon fill=\"black\" points=\"195.5,-554.607 192,-544.607 188.5,-554.607 195.5,-554.607\" stroke=\"black\"/>\n",
       "</g>\n",
       "<!-- 2335295227832 -->\n",
       "<g class=\"node\" id=\"node3\"><title>2335295227832</title>\n",
       "<polygon fill=\"none\" points=\"41,-415.5 41,-461.5 343,-461.5 343,-415.5 41,-415.5\" stroke=\"black\"/>\n",
       "<text font-family=\"Times New Roman,serif\" font-size=\"14.00\" text-anchor=\"middle\" x=\"104.5\" y=\"-434.8\">conv2d_2: Conv2D</text>\n",
       "<polyline fill=\"none\" points=\"168,-415.5 168,-461.5 \" stroke=\"black\"/>\n",
       "<text font-family=\"Times New Roman,serif\" font-size=\"14.00\" text-anchor=\"middle\" x=\"196\" y=\"-446.3\">input:</text>\n",
       "<polyline fill=\"none\" points=\"168,-438.5 224,-438.5 \" stroke=\"black\"/>\n",
       "<text font-family=\"Times New Roman,serif\" font-size=\"14.00\" text-anchor=\"middle\" x=\"196\" y=\"-423.3\">output:</text>\n",
       "<polyline fill=\"none\" points=\"224,-415.5 224,-461.5 \" stroke=\"black\"/>\n",
       "<text font-family=\"Times New Roman,serif\" font-size=\"14.00\" text-anchor=\"middle\" x=\"283.5\" y=\"-446.3\">(None, 12, 12, 64)</text>\n",
       "<polyline fill=\"none\" points=\"224,-438.5 343,-438.5 \" stroke=\"black\"/>\n",
       "<text font-family=\"Times New Roman,serif\" font-size=\"14.00\" text-anchor=\"middle\" x=\"283.5\" y=\"-423.3\">(None, 10, 10, 64)</text>\n",
       "</g>\n",
       "<!-- 2335295098832&#45;&gt;2335295227832 -->\n",
       "<g class=\"edge\" id=\"edge3\"><title>2335295098832-&gt;2335295227832</title>\n",
       "<path d=\"M192,-498.366C192,-490.152 192,-480.658 192,-471.725\" fill=\"none\" stroke=\"black\"/>\n",
       "<polygon fill=\"black\" points=\"195.5,-471.607 192,-461.607 188.5,-471.607 195.5,-471.607\" stroke=\"black\"/>\n",
       "</g>\n",
       "<!-- 2335295227328 -->\n",
       "<g class=\"node\" id=\"node4\"><title>2335295227328</title>\n",
       "<polygon fill=\"none\" points=\"0,-332.5 0,-378.5 384,-378.5 384,-332.5 0,-332.5\" stroke=\"black\"/>\n",
       "<text font-family=\"Times New Roman,serif\" font-size=\"14.00\" text-anchor=\"middle\" x=\"104.5\" y=\"-351.8\">max_pooling2d_2: MaxPooling2D</text>\n",
       "<polyline fill=\"none\" points=\"209,-332.5 209,-378.5 \" stroke=\"black\"/>\n",
       "<text font-family=\"Times New Roman,serif\" font-size=\"14.00\" text-anchor=\"middle\" x=\"237\" y=\"-363.3\">input:</text>\n",
       "<polyline fill=\"none\" points=\"209,-355.5 265,-355.5 \" stroke=\"black\"/>\n",
       "<text font-family=\"Times New Roman,serif\" font-size=\"14.00\" text-anchor=\"middle\" x=\"237\" y=\"-340.3\">output:</text>\n",
       "<polyline fill=\"none\" points=\"265,-332.5 265,-378.5 \" stroke=\"black\"/>\n",
       "<text font-family=\"Times New Roman,serif\" font-size=\"14.00\" text-anchor=\"middle\" x=\"324.5\" y=\"-363.3\">(None, 10, 10, 64)</text>\n",
       "<polyline fill=\"none\" points=\"265,-355.5 384,-355.5 \" stroke=\"black\"/>\n",
       "<text font-family=\"Times New Roman,serif\" font-size=\"14.00\" text-anchor=\"middle\" x=\"324.5\" y=\"-340.3\">(None, 5, 5, 64)</text>\n",
       "</g>\n",
       "<!-- 2335295227832&#45;&gt;2335295227328 -->\n",
       "<g class=\"edge\" id=\"edge4\"><title>2335295227832-&gt;2335295227328</title>\n",
       "<path d=\"M192,-415.366C192,-407.152 192,-397.658 192,-388.725\" fill=\"none\" stroke=\"black\"/>\n",
       "<polygon fill=\"black\" points=\"195.5,-388.607 192,-378.607 188.5,-388.607 195.5,-388.607\" stroke=\"black\"/>\n",
       "</g>\n",
       "<!-- 2335295114600 -->\n",
       "<g class=\"node\" id=\"node5\"><title>2335295114600</title>\n",
       "<polygon fill=\"none\" points=\"46.5,-249.5 46.5,-295.5 337.5,-295.5 337.5,-249.5 46.5,-249.5\" stroke=\"black\"/>\n",
       "<text font-family=\"Times New Roman,serif\" font-size=\"14.00\" text-anchor=\"middle\" x=\"111.5\" y=\"-268.8\">dropout_1: Dropout</text>\n",
       "<polyline fill=\"none\" points=\"176.5,-249.5 176.5,-295.5 \" stroke=\"black\"/>\n",
       "<text font-family=\"Times New Roman,serif\" font-size=\"14.00\" text-anchor=\"middle\" x=\"204.5\" y=\"-280.3\">input:</text>\n",
       "<polyline fill=\"none\" points=\"176.5,-272.5 232.5,-272.5 \" stroke=\"black\"/>\n",
       "<text font-family=\"Times New Roman,serif\" font-size=\"14.00\" text-anchor=\"middle\" x=\"204.5\" y=\"-257.3\">output:</text>\n",
       "<polyline fill=\"none\" points=\"232.5,-249.5 232.5,-295.5 \" stroke=\"black\"/>\n",
       "<text font-family=\"Times New Roman,serif\" font-size=\"14.00\" text-anchor=\"middle\" x=\"285\" y=\"-280.3\">(None, 5, 5, 64)</text>\n",
       "<polyline fill=\"none\" points=\"232.5,-272.5 337.5,-272.5 \" stroke=\"black\"/>\n",
       "<text font-family=\"Times New Roman,serif\" font-size=\"14.00\" text-anchor=\"middle\" x=\"285\" y=\"-257.3\">(None, 5, 5, 64)</text>\n",
       "</g>\n",
       "<!-- 2335295227328&#45;&gt;2335295114600 -->\n",
       "<g class=\"edge\" id=\"edge5\"><title>2335295227328-&gt;2335295114600</title>\n",
       "<path d=\"M192,-332.366C192,-324.152 192,-314.658 192,-305.725\" fill=\"none\" stroke=\"black\"/>\n",
       "<polygon fill=\"black\" points=\"195.5,-305.607 192,-295.607 188.5,-305.607 195.5,-305.607\" stroke=\"black\"/>\n",
       "</g>\n",
       "<!-- 2335295345328 -->\n",
       "<g class=\"node\" id=\"node6\"><title>2335295345328</title>\n",
       "<polygon fill=\"none\" points=\"57,-166.5 57,-212.5 327,-212.5 327,-166.5 57,-166.5\" stroke=\"black\"/>\n",
       "<text font-family=\"Times New Roman,serif\" font-size=\"14.00\" text-anchor=\"middle\" x=\"111.5\" y=\"-185.8\">flatten_1: Flatten</text>\n",
       "<polyline fill=\"none\" points=\"166,-166.5 166,-212.5 \" stroke=\"black\"/>\n",
       "<text font-family=\"Times New Roman,serif\" font-size=\"14.00\" text-anchor=\"middle\" x=\"194\" y=\"-197.3\">input:</text>\n",
       "<polyline fill=\"none\" points=\"166,-189.5 222,-189.5 \" stroke=\"black\"/>\n",
       "<text font-family=\"Times New Roman,serif\" font-size=\"14.00\" text-anchor=\"middle\" x=\"194\" y=\"-174.3\">output:</text>\n",
       "<polyline fill=\"none\" points=\"222,-166.5 222,-212.5 \" stroke=\"black\"/>\n",
       "<text font-family=\"Times New Roman,serif\" font-size=\"14.00\" text-anchor=\"middle\" x=\"274.5\" y=\"-197.3\">(None, 5, 5, 64)</text>\n",
       "<polyline fill=\"none\" points=\"222,-189.5 327,-189.5 \" stroke=\"black\"/>\n",
       "<text font-family=\"Times New Roman,serif\" font-size=\"14.00\" text-anchor=\"middle\" x=\"274.5\" y=\"-174.3\">(None, 1600)</text>\n",
       "</g>\n",
       "<!-- 2335295114600&#45;&gt;2335295345328 -->\n",
       "<g class=\"edge\" id=\"edge6\"><title>2335295114600-&gt;2335295345328</title>\n",
       "<path d=\"M192,-249.366C192,-241.152 192,-231.658 192,-222.725\" fill=\"none\" stroke=\"black\"/>\n",
       "<polygon fill=\"black\" points=\"195.5,-222.607 192,-212.607 188.5,-222.607 195.5,-222.607\" stroke=\"black\"/>\n",
       "</g>\n",
       "<!-- 2335295347848 -->\n",
       "<g class=\"node\" id=\"node7\"><title>2335295347848</title>\n",
       "<polygon fill=\"none\" points=\"67,-83.5 67,-129.5 317,-129.5 317,-83.5 67,-83.5\" stroke=\"black\"/>\n",
       "<text font-family=\"Times New Roman,serif\" font-size=\"14.00\" text-anchor=\"middle\" x=\"119\" y=\"-102.8\">dense_1: Dense</text>\n",
       "<polyline fill=\"none\" points=\"171,-83.5 171,-129.5 \" stroke=\"black\"/>\n",
       "<text font-family=\"Times New Roman,serif\" font-size=\"14.00\" text-anchor=\"middle\" x=\"199\" y=\"-114.3\">input:</text>\n",
       "<polyline fill=\"none\" points=\"171,-106.5 227,-106.5 \" stroke=\"black\"/>\n",
       "<text font-family=\"Times New Roman,serif\" font-size=\"14.00\" text-anchor=\"middle\" x=\"199\" y=\"-91.3\">output:</text>\n",
       "<polyline fill=\"none\" points=\"227,-83.5 227,-129.5 \" stroke=\"black\"/>\n",
       "<text font-family=\"Times New Roman,serif\" font-size=\"14.00\" text-anchor=\"middle\" x=\"272\" y=\"-114.3\">(None, 1600)</text>\n",
       "<polyline fill=\"none\" points=\"227,-106.5 317,-106.5 \" stroke=\"black\"/>\n",
       "<text font-family=\"Times New Roman,serif\" font-size=\"14.00\" text-anchor=\"middle\" x=\"272\" y=\"-91.3\">(None, 256)</text>\n",
       "</g>\n",
       "<!-- 2335295345328&#45;&gt;2335295347848 -->\n",
       "<g class=\"edge\" id=\"edge7\"><title>2335295345328-&gt;2335295347848</title>\n",
       "<path d=\"M192,-166.366C192,-158.152 192,-148.658 192,-139.725\" fill=\"none\" stroke=\"black\"/>\n",
       "<polygon fill=\"black\" points=\"195.5,-139.607 192,-129.607 188.5,-139.607 195.5,-139.607\" stroke=\"black\"/>\n",
       "</g>\n",
       "<!-- 2335295347624 -->\n",
       "<g class=\"node\" id=\"node8\"><title>2335295347624</title>\n",
       "<polygon fill=\"none\" points=\"70.5,-0.5 70.5,-46.5 313.5,-46.5 313.5,-0.5 70.5,-0.5\" stroke=\"black\"/>\n",
       "<text font-family=\"Times New Roman,serif\" font-size=\"14.00\" text-anchor=\"middle\" x=\"122.5\" y=\"-19.8\">dense_2: Dense</text>\n",
       "<polyline fill=\"none\" points=\"174.5,-0.5 174.5,-46.5 \" stroke=\"black\"/>\n",
       "<text font-family=\"Times New Roman,serif\" font-size=\"14.00\" text-anchor=\"middle\" x=\"202.5\" y=\"-31.3\">input:</text>\n",
       "<polyline fill=\"none\" points=\"174.5,-23.5 230.5,-23.5 \" stroke=\"black\"/>\n",
       "<text font-family=\"Times New Roman,serif\" font-size=\"14.00\" text-anchor=\"middle\" x=\"202.5\" y=\"-8.3\">output:</text>\n",
       "<polyline fill=\"none\" points=\"230.5,-0.5 230.5,-46.5 \" stroke=\"black\"/>\n",
       "<text font-family=\"Times New Roman,serif\" font-size=\"14.00\" text-anchor=\"middle\" x=\"272\" y=\"-31.3\">(None, 256)</text>\n",
       "<polyline fill=\"none\" points=\"230.5,-23.5 313.5,-23.5 \" stroke=\"black\"/>\n",
       "<text font-family=\"Times New Roman,serif\" font-size=\"14.00\" text-anchor=\"middle\" x=\"272\" y=\"-8.3\">(None, 10)</text>\n",
       "</g>\n",
       "<!-- 2335295347848&#45;&gt;2335295347624 -->\n",
       "<g class=\"edge\" id=\"edge8\"><title>2335295347848-&gt;2335295347624</title>\n",
       "<path d=\"M192,-83.3664C192,-75.1516 192,-65.6579 192,-56.7252\" fill=\"none\" stroke=\"black\"/>\n",
       "<polygon fill=\"black\" points=\"195.5,-56.6068 192,-46.6068 188.5,-56.6069 195.5,-56.6068\" stroke=\"black\"/>\n",
       "</g>\n",
       "<!-- 2335295111576 -->\n",
       "<g class=\"node\" id=\"node9\"><title>2335295111576</title>\n",
       "<polygon fill=\"none\" points=\"140,-664.5 140,-700.5 244,-700.5 244,-664.5 140,-664.5\" stroke=\"black\"/>\n",
       "<text font-family=\"Times New Roman,serif\" font-size=\"14.00\" text-anchor=\"middle\" x=\"192\" y=\"-678.8\">2335295111576</text>\n",
       "</g>\n",
       "<!-- 2335295111576&#45;&gt;2335295098440 -->\n",
       "<g class=\"edge\" id=\"edge1\"><title>2335295111576-&gt;2335295098440</title>\n",
       "<path d=\"M192,-664.254C192,-656.363 192,-646.749 192,-637.602\" fill=\"none\" stroke=\"black\"/>\n",
       "<polygon fill=\"black\" points=\"195.5,-637.591 192,-627.591 188.5,-637.591 195.5,-637.591\" stroke=\"black\"/>\n",
       "</g>\n",
       "</g>\n",
       "</svg>"
      ],
      "text/plain": [
       "<IPython.core.display.SVG object>"
      ]
     },
     "execution_count": 11,
     "metadata": {},
     "output_type": "execute_result"
    }
   ],
   "source": [
    "print(\"CNN Model\")\n",
    "SVG(model_to_dot(cnn_model, show_shapes=True).create(prog='dot', format='svg'))"
   ]
  },
  {
   "cell_type": "code",
   "execution_count": 12,
   "metadata": {},
   "outputs": [
    {
     "name": "stdout",
     "output_type": "stream",
     "text": [
      "RNN Model\n"
     ]
    },
    {
     "data": {
      "image/svg+xml": [
       "<svg height=\"377pt\" viewBox=\"0.00 0.00 329.00 377.00\" width=\"329pt\" xmlns=\"http://www.w3.org/2000/svg\" xmlns:xlink=\"http://www.w3.org/1999/xlink\">\n",
       "<g class=\"graph\" id=\"graph0\" transform=\"scale(1 1) rotate(0) translate(4 373)\">\n",
       "<title>G</title>\n",
       "<polygon fill=\"white\" points=\"-4,4 -4,-373 325,-373 325,4 -4,4\" stroke=\"none\"/>\n",
       "<!-- 2335295096144 -->\n",
       "<g class=\"node\" id=\"node1\"><title>2335295096144</title>\n",
       "<polygon fill=\"none\" points=\"0,-249.5 0,-295.5 321,-295.5 321,-249.5 0,-249.5\" stroke=\"black\"/>\n",
       "<text font-family=\"Times New Roman,serif\" font-size=\"14.00\" text-anchor=\"middle\" x=\"83.5\" y=\"-268.8\">simple_rnn_1: SimpleRNN</text>\n",
       "<polyline fill=\"none\" points=\"167,-249.5 167,-295.5 \" stroke=\"black\"/>\n",
       "<text font-family=\"Times New Roman,serif\" font-size=\"14.00\" text-anchor=\"middle\" x=\"195\" y=\"-280.3\">input:</text>\n",
       "<polyline fill=\"none\" points=\"167,-272.5 223,-272.5 \" stroke=\"black\"/>\n",
       "<text font-family=\"Times New Roman,serif\" font-size=\"14.00\" text-anchor=\"middle\" x=\"195\" y=\"-257.3\">output:</text>\n",
       "<polyline fill=\"none\" points=\"223,-249.5 223,-295.5 \" stroke=\"black\"/>\n",
       "<text font-family=\"Times New Roman,serif\" font-size=\"14.00\" text-anchor=\"middle\" x=\"272\" y=\"-280.3\">(None, 28, 28)</text>\n",
       "<polyline fill=\"none\" points=\"223,-272.5 321,-272.5 \" stroke=\"black\"/>\n",
       "<text font-family=\"Times New Roman,serif\" font-size=\"14.00\" text-anchor=\"middle\" x=\"272\" y=\"-257.3\">(None, 28, 64)</text>\n",
       "</g>\n",
       "<!-- 2335295096368 -->\n",
       "<g class=\"node\" id=\"node2\"><title>2335295096368</title>\n",
       "<polygon fill=\"none\" points=\"0,-166.5 0,-212.5 321,-212.5 321,-166.5 0,-166.5\" stroke=\"black\"/>\n",
       "<text font-family=\"Times New Roman,serif\" font-size=\"14.00\" text-anchor=\"middle\" x=\"83.5\" y=\"-185.8\">simple_rnn_2: SimpleRNN</text>\n",
       "<polyline fill=\"none\" points=\"167,-166.5 167,-212.5 \" stroke=\"black\"/>\n",
       "<text font-family=\"Times New Roman,serif\" font-size=\"14.00\" text-anchor=\"middle\" x=\"195\" y=\"-197.3\">input:</text>\n",
       "<polyline fill=\"none\" points=\"167,-189.5 223,-189.5 \" stroke=\"black\"/>\n",
       "<text font-family=\"Times New Roman,serif\" font-size=\"14.00\" text-anchor=\"middle\" x=\"195\" y=\"-174.3\">output:</text>\n",
       "<polyline fill=\"none\" points=\"223,-166.5 223,-212.5 \" stroke=\"black\"/>\n",
       "<text font-family=\"Times New Roman,serif\" font-size=\"14.00\" text-anchor=\"middle\" x=\"272\" y=\"-197.3\">(None, 28, 64)</text>\n",
       "<polyline fill=\"none\" points=\"223,-189.5 321,-189.5 \" stroke=\"black\"/>\n",
       "<text font-family=\"Times New Roman,serif\" font-size=\"14.00\" text-anchor=\"middle\" x=\"272\" y=\"-174.3\">(None, 64)</text>\n",
       "</g>\n",
       "<!-- 2335295096144&#45;&gt;2335295096368 -->\n",
       "<g class=\"edge\" id=\"edge2\"><title>2335295096144-&gt;2335295096368</title>\n",
       "<path d=\"M160.5,-249.366C160.5,-241.152 160.5,-231.658 160.5,-222.725\" fill=\"none\" stroke=\"black\"/>\n",
       "<polygon fill=\"black\" points=\"164,-222.607 160.5,-212.607 157,-222.607 164,-222.607\" stroke=\"black\"/>\n",
       "</g>\n",
       "<!-- 2335295836624 -->\n",
       "<g class=\"node\" id=\"node3\"><title>2335295836624</title>\n",
       "<polygon fill=\"none\" points=\"42,-83.5 42,-129.5 279,-129.5 279,-83.5 42,-83.5\" stroke=\"black\"/>\n",
       "<text font-family=\"Times New Roman,serif\" font-size=\"14.00\" text-anchor=\"middle\" x=\"94\" y=\"-102.8\">dense_3: Dense</text>\n",
       "<polyline fill=\"none\" points=\"146,-83.5 146,-129.5 \" stroke=\"black\"/>\n",
       "<text font-family=\"Times New Roman,serif\" font-size=\"14.00\" text-anchor=\"middle\" x=\"174\" y=\"-114.3\">input:</text>\n",
       "<polyline fill=\"none\" points=\"146,-106.5 202,-106.5 \" stroke=\"black\"/>\n",
       "<text font-family=\"Times New Roman,serif\" font-size=\"14.00\" text-anchor=\"middle\" x=\"174\" y=\"-91.3\">output:</text>\n",
       "<polyline fill=\"none\" points=\"202,-83.5 202,-129.5 \" stroke=\"black\"/>\n",
       "<text font-family=\"Times New Roman,serif\" font-size=\"14.00\" text-anchor=\"middle\" x=\"240.5\" y=\"-114.3\">(None, 64)</text>\n",
       "<polyline fill=\"none\" points=\"202,-106.5 279,-106.5 \" stroke=\"black\"/>\n",
       "<text font-family=\"Times New Roman,serif\" font-size=\"14.00\" text-anchor=\"middle\" x=\"240.5\" y=\"-91.3\">(None, 10)</text>\n",
       "</g>\n",
       "<!-- 2335295096368&#45;&gt;2335295836624 -->\n",
       "<g class=\"edge\" id=\"edge3\"><title>2335295096368-&gt;2335295836624</title>\n",
       "<path d=\"M160.5,-166.366C160.5,-158.152 160.5,-148.658 160.5,-139.725\" fill=\"none\" stroke=\"black\"/>\n",
       "<polygon fill=\"black\" points=\"164,-139.607 160.5,-129.607 157,-139.607 164,-139.607\" stroke=\"black\"/>\n",
       "</g>\n",
       "<!-- 2335891294024 -->\n",
       "<g class=\"node\" id=\"node4\"><title>2335891294024</title>\n",
       "<polygon fill=\"none\" points=\"20,-0.5 20,-46.5 301,-46.5 301,-0.5 20,-0.5\" stroke=\"black\"/>\n",
       "<text font-family=\"Times New Roman,serif\" font-size=\"14.00\" text-anchor=\"middle\" x=\"94\" y=\"-19.8\">activation_1: Activation</text>\n",
       "<polyline fill=\"none\" points=\"168,-0.5 168,-46.5 \" stroke=\"black\"/>\n",
       "<text font-family=\"Times New Roman,serif\" font-size=\"14.00\" text-anchor=\"middle\" x=\"196\" y=\"-31.3\">input:</text>\n",
       "<polyline fill=\"none\" points=\"168,-23.5 224,-23.5 \" stroke=\"black\"/>\n",
       "<text font-family=\"Times New Roman,serif\" font-size=\"14.00\" text-anchor=\"middle\" x=\"196\" y=\"-8.3\">output:</text>\n",
       "<polyline fill=\"none\" points=\"224,-0.5 224,-46.5 \" stroke=\"black\"/>\n",
       "<text font-family=\"Times New Roman,serif\" font-size=\"14.00\" text-anchor=\"middle\" x=\"262.5\" y=\"-31.3\">(None, 10)</text>\n",
       "<polyline fill=\"none\" points=\"224,-23.5 301,-23.5 \" stroke=\"black\"/>\n",
       "<text font-family=\"Times New Roman,serif\" font-size=\"14.00\" text-anchor=\"middle\" x=\"262.5\" y=\"-8.3\">(None, 10)</text>\n",
       "</g>\n",
       "<!-- 2335295836624&#45;&gt;2335891294024 -->\n",
       "<g class=\"edge\" id=\"edge4\"><title>2335295836624-&gt;2335891294024</title>\n",
       "<path d=\"M160.5,-83.3664C160.5,-75.1516 160.5,-65.6579 160.5,-56.7252\" fill=\"none\" stroke=\"black\"/>\n",
       "<polygon fill=\"black\" points=\"164,-56.6068 160.5,-46.6068 157,-56.6069 164,-56.6068\" stroke=\"black\"/>\n",
       "</g>\n",
       "<!-- 2335295096872 -->\n",
       "<g class=\"node\" id=\"node5\"><title>2335295096872</title>\n",
       "<polygon fill=\"none\" points=\"108.5,-332.5 108.5,-368.5 212.5,-368.5 212.5,-332.5 108.5,-332.5\" stroke=\"black\"/>\n",
       "<text font-family=\"Times New Roman,serif\" font-size=\"14.00\" text-anchor=\"middle\" x=\"160.5\" y=\"-346.8\">2335295096872</text>\n",
       "</g>\n",
       "<!-- 2335295096872&#45;&gt;2335295096144 -->\n",
       "<g class=\"edge\" id=\"edge1\"><title>2335295096872-&gt;2335295096144</title>\n",
       "<path d=\"M160.5,-332.254C160.5,-324.363 160.5,-314.749 160.5,-305.602\" fill=\"none\" stroke=\"black\"/>\n",
       "<polygon fill=\"black\" points=\"164,-305.591 160.5,-295.591 157,-305.591 164,-305.591\" stroke=\"black\"/>\n",
       "</g>\n",
       "</g>\n",
       "</svg>"
      ],
      "text/plain": [
       "<IPython.core.display.SVG object>"
      ]
     },
     "execution_count": 12,
     "metadata": {},
     "output_type": "execute_result"
    }
   ],
   "source": [
    "print(\"RNN Model\")\n",
    "SVG(model_to_dot(rnn_model, show_shapes=True).create(prog='dot', format='svg'))"
   ]
  },
  {
   "cell_type": "code",
   "execution_count": 13,
   "metadata": {},
   "outputs": [
    {
     "name": "stdout",
     "output_type": "stream",
     "text": [
      "Train on 60000 samples, validate on 10000 samples\n",
      "Epoch 1/10\n",
      "60000/60000 [==============================] - 108s 2ms/step - loss: 0.2235 - acc: 0.9330 - val_loss: 0.0645 - val_acc: 0.9795\n",
      "Epoch 2/10\n",
      "60000/60000 [==============================] - 104s 2ms/step - loss: 0.0658 - acc: 0.9802 - val_loss: 0.0342 - val_acc: 0.9889\n",
      "Epoch 3/10\n",
      "60000/60000 [==============================] - 104s 2ms/step - loss: 0.0467 - acc: 0.9854 - val_loss: 0.0282 - val_acc: 0.9905\n",
      "Epoch 4/10\n",
      "60000/60000 [==============================] - 104s 2ms/step - loss: 0.0388 - acc: 0.9875 - val_loss: 0.0237 - val_acc: 0.9914\n",
      "Epoch 5/10\n",
      "60000/60000 [==============================] - 104s 2ms/step - loss: 0.0320 - acc: 0.9900 - val_loss: 0.0310 - val_acc: 0.9891\n",
      "Epoch 6/10\n",
      "60000/60000 [==============================] - 103s 2ms/step - loss: 0.0263 - acc: 0.9916 - val_loss: 0.0274 - val_acc: 0.9904\n",
      "Epoch 7/10\n",
      "60000/60000 [==============================] - 104s 2ms/step - loss: 0.0237 - acc: 0.9923 - val_loss: 0.0211 - val_acc: 0.9922\n",
      "Epoch 8/10\n",
      "60000/60000 [==============================] - 105s 2ms/step - loss: 0.0210 - acc: 0.9931 - val_loss: 0.0194 - val_acc: 0.9941\n",
      "Epoch 9/10\n",
      "60000/60000 [==============================] - 104s 2ms/step - loss: 0.0180 - acc: 0.9942 - val_loss: 0.0197 - val_acc: 0.9937\n",
      "Epoch 10/10\n",
      "60000/60000 [==============================] - 103s 2ms/step - loss: 0.0191 - acc: 0.9937 - val_loss: 0.0240 - val_acc: 0.9919\n"
     ]
    }
   ],
   "source": [
    "cnn_history = cnn_model.fit(cnn_X_train, Y_train, validation_data = (cnn_X_test, Y_test), epochs = cnn_epochs, batch_size = batch_size)"
   ]
  },
  {
   "cell_type": "code",
   "execution_count": 14,
   "metadata": {},
   "outputs": [
    {
     "name": "stdout",
     "output_type": "stream",
     "text": [
      "Train on 60000 samples, validate on 10000 samples\n",
      "Epoch 1/20\n",
      "60000/60000 [==============================] - 13s 224us/step - loss: 0.6188 - acc: 0.8107 - val_loss: 0.2725 - val_acc: 0.9193\n",
      "Epoch 2/20\n",
      "60000/60000 [==============================] - 13s 218us/step - loss: 0.2305 - acc: 0.9327 - val_loss: 0.1619 - val_acc: 0.9521\n",
      "Epoch 3/20\n",
      "60000/60000 [==============================] - 13s 218us/step - loss: 0.1774 - acc: 0.9482 - val_loss: 0.1396 - val_acc: 0.9598\n",
      "Epoch 4/20\n",
      "60000/60000 [==============================] - 14s 225us/step - loss: 0.1463 - acc: 0.9575 - val_loss: 0.1371 - val_acc: 0.9588\n",
      "Epoch 5/20\n",
      "60000/60000 [==============================] - 13s 220us/step - loss: 0.1251 - acc: 0.9633 - val_loss: 0.1230 - val_acc: 0.9652\n",
      "Epoch 6/20\n",
      "60000/60000 [==============================] - 13s 220us/step - loss: 0.1164 - acc: 0.9651 - val_loss: 0.1001 - val_acc: 0.9708\n",
      "Epoch 7/20\n",
      "60000/60000 [==============================] - 13s 219us/step - loss: 0.1053 - acc: 0.9685 - val_loss: 0.1235 - val_acc: 0.9661\n",
      "Epoch 8/20\n",
      "60000/60000 [==============================] - 13s 221us/step - loss: 0.0974 - acc: 0.9714 - val_loss: 0.1063 - val_acc: 0.9696\n",
      "Epoch 9/20\n",
      "60000/60000 [==============================] - 13s 220us/step - loss: 0.0930 - acc: 0.9724 - val_loss: 0.0943 - val_acc: 0.9722\n",
      "Epoch 10/20\n",
      "60000/60000 [==============================] - 13s 222us/step - loss: 0.0846 - acc: 0.9746 - val_loss: 0.0865 - val_acc: 0.9746\n",
      "Epoch 11/20\n",
      "60000/60000 [==============================] - 13s 220us/step - loss: 0.0831 - acc: 0.9748 - val_loss: 0.0973 - val_acc: 0.9718\n",
      "Epoch 12/20\n",
      "60000/60000 [==============================] - 13s 220us/step - loss: 0.0774 - acc: 0.9769 - val_loss: 0.1195 - val_acc: 0.9659\n",
      "Epoch 13/20\n",
      "60000/60000 [==============================] - 13s 221us/step - loss: 0.0766 - acc: 0.9770 - val_loss: 0.0908 - val_acc: 0.9731\n",
      "Epoch 14/20\n",
      "60000/60000 [==============================] - 13s 220us/step - loss: 0.0697 - acc: 0.9786 - val_loss: 0.0965 - val_acc: 0.9729\n",
      "Epoch 15/20\n",
      "60000/60000 [==============================] - 13s 221us/step - loss: 0.0703 - acc: 0.9790 - val_loss: 0.0846 - val_acc: 0.9760\n",
      "Epoch 16/20\n",
      "60000/60000 [==============================] - 13s 221us/step - loss: 0.0683 - acc: 0.9795 - val_loss: 0.0821 - val_acc: 0.9766\n",
      "Epoch 17/20\n",
      "60000/60000 [==============================] - 13s 221us/step - loss: 0.0707 - acc: 0.9791 - val_loss: 0.1121 - val_acc: 0.9666\n",
      "Epoch 18/20\n",
      "60000/60000 [==============================] - 13s 222us/step - loss: 0.0653 - acc: 0.9799 - val_loss: 0.0955 - val_acc: 0.9731\n",
      "Epoch 19/20\n",
      "60000/60000 [==============================] - 13s 222us/step - loss: 0.0606 - acc: 0.9814 - val_loss: 0.0875 - val_acc: 0.9752\n",
      "Epoch 20/20\n",
      "60000/60000 [==============================] - 13s 223us/step - loss: 0.0619 - acc: 0.9815 - val_loss: 0.0804 - val_acc: 0.9778\n"
     ]
    }
   ],
   "source": [
    "rnn_history = rnn_model.fit(rnn_X_train, Y_train, validation_data = (rnn_X_test, Y_test), epochs = rnn_epochs, batch_size = batch_size)"
   ]
  },
  {
   "cell_type": "code",
   "execution_count": 15,
   "metadata": {},
   "outputs": [],
   "source": [
    "cnn_model.save('MNIST_Handwritten_Digit_Classification_Challenge_cnn.h5')"
   ]
  },
  {
   "cell_type": "code",
   "execution_count": 16,
   "metadata": {},
   "outputs": [],
   "source": [
    "rnn_model.save('MNIST_Handwritten_Digit_Classification_Challenge_rnn.h5')"
   ]
  },
  {
   "cell_type": "code",
   "execution_count": 17,
   "metadata": {},
   "outputs": [
    {
     "data": {
      "image/png": "[encoded data removed]",
      "text/plain": [
       "<Figure size 720x360 with 1 Axes>"
      ]
     },
     "metadata": {},
     "output_type": "display_data"
    },
    {
     "data": {
      "image/png": "[encoded data removed]",
      "text/plain": [
       "<Figure size 720x360 with 1 Axes>"
      ]
     },
     "metadata": {},
     "output_type": "display_data"
    }
   ],
   "source": [
    "plt.figure(figsize=(cnn_epochs,5))\n",
    "plt.plot(cnn_history.epoch,cnn_history.history['loss'])\n",
    "plt.xlim(0, cnn_epochs)\n",
    "plt.ylim(0, 1)\n",
    "plt.title('cnn: loss')\n",
    "\n",
    "plt.figure(figsize=(cnn_epochs,5))\n",
    "plt.plot(cnn_history.epoch,cnn_history.history['acc'])\n",
    "plt.xlim(0, cnn_epochs)\n",
    "plt.ylim(0, 1)\n",
    "plt.title('cnn: accuracy');"
   ]
  },
  {
   "cell_type": "code",
   "execution_count": 18,
   "metadata": {},
   "outputs": [
    {
     "data": {
      "image/png": "[encoded data removed]",
      "text/plain": [
       "<Figure size 1440x360 with 1 Axes>"
      ]
     },
     "metadata": {},
     "output_type": "display_data"
    },
    {
     "data": {
      "image/png": "[encoded data removed]",
      "text/plain": [
       "<Figure size 1440x360 with 1 Axes>"
      ]
     },
     "metadata": {},
     "output_type": "display_data"
    }
   ],
   "source": [
    "plt.figure(figsize=(rnn_epochs,5))\n",
    "plt.plot(rnn_history.epoch,rnn_history.history['loss'])\n",
    "plt.xlim(0, rnn_epochs)\n",
    "plt.ylim(0, 1)\n",
    "plt.title('rnn: loss')\n",
    "\n",
    "plt.figure(figsize=(rnn_epochs,5))\n",
    "plt.plot(rnn_history.epoch,rnn_history.history['acc'])\n",
    "plt.xlim(0, rnn_epochs)\n",
    "plt.ylim(0, 1)\n",
    "plt.title('rnn: accuracy');"
   ]
  },
  {
   "cell_type": "code",
   "execution_count": null,
   "metadata": {},
   "outputs": [],
   "source": []
  }
 ],
 "metadata": {
  "kernelspec": {
   "display_name": "Python 3",
   "language": "python",
   "name": "python3"
  },
  "language_info": {
   "codemirror_mode": {
    "name": "ipython",
    "version": 3
   },
   "file_extension": ".py",
   "mimetype": "text/x-python",
   "name": "python",
   "nbconvert_exporter": "python",
   "pygments_lexer": "ipython3",
   "version": "3.6.6"
  }
 },
 "nbformat": 4,
 "nbformat_minor": 2
}
